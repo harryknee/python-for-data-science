{
 "cells": [
  {
   "cell_type": "code",
   "execution_count": 1,
   "id": "40ec9c37",
   "metadata": {},
   "outputs": [],
   "source": [
    "import numpy as np\n",
    "import pandas as pd\n",
    "\n",
    "from pandas import Series, DataFrame"
   ]
  },
  {
   "cell_type": "markdown",
   "id": "10830a95",
   "metadata": {},
   "source": [
    "## Series and DataFrame Object"
   ]
  },
  {
   "cell_type": "code",
   "execution_count": 3,
   "id": "34f76578",
   "metadata": {},
   "outputs": [
    {
     "data": {
      "text/plain": [
       "row 1    0\n",
       "row 2    1\n",
       "row 3    2\n",
       "row 4    3\n",
       "row 5    4\n",
       "row 6    5\n",
       "row 7    6\n",
       "row 8    7\n",
       "dtype: int32"
      ]
     },
     "execution_count": 3,
     "metadata": {},
     "output_type": "execute_result"
    }
   ],
   "source": [
    "li = []\n",
    "for i in range (1,9):\n",
    "    li.append('row ' + str(i))\n",
    "\n",
    "# create a series object of range 8 (indexed 0-7) with index named 'row x'\n",
    "series_obj = Series(np.arange(8), index = li)\n",
    "series_obj"
   ]
  },
  {
   "cell_type": "code",
   "execution_count": 4,
   "id": "ba2ceb1b",
   "metadata": {},
   "outputs": [
    {
     "data": {
      "text/plain": [
       "6"
      ]
     },
     "execution_count": 4,
     "metadata": {},
     "output_type": "execute_result"
    }
   ],
   "source": [
    "series_obj['row 7']"
   ]
  },
  {
   "cell_type": "code",
   "execution_count": 6,
   "id": "d6c88eb2",
   "metadata": {},
   "outputs": [
    {
     "data": {
      "text/plain": [
       "row 1    0\n",
       "row 8    7\n",
       "dtype: int32"
      ]
     },
     "execution_count": 6,
     "metadata": {},
     "output_type": "execute_result"
    }
   ],
   "source": [
    "# the attribute can also be a list, in index/name\n",
    "series_obj[[0,7]]"
   ]
  },
  {
   "cell_type": "code",
   "execution_count": 10,
   "id": "4e26512c",
   "metadata": {},
   "outputs": [
    {
     "data": {
      "text/html": [
       "<div>\n",
       "<style scoped>\n",
       "    .dataframe tbody tr th:only-of-type {\n",
       "        vertical-align: middle;\n",
       "    }\n",
       "\n",
       "    .dataframe tbody tr th {\n",
       "        vertical-align: top;\n",
       "    }\n",
       "\n",
       "    .dataframe thead th {\n",
       "        text-align: right;\n",
       "    }\n",
       "</style>\n",
       "<table border=\"1\" class=\"dataframe\">\n",
       "  <thead>\n",
       "    <tr style=\"text-align: right;\">\n",
       "      <th></th>\n",
       "      <th>column 1</th>\n",
       "      <th>column 2</th>\n",
       "      <th>column 3</th>\n",
       "      <th>column 4</th>\n",
       "      <th>column 5</th>\n",
       "      <th>column 6</th>\n",
       "    </tr>\n",
       "  </thead>\n",
       "  <tbody>\n",
       "    <tr>\n",
       "      <th>row 1</th>\n",
       "      <td>0.559242</td>\n",
       "      <td>0.745284</td>\n",
       "      <td>0.828346</td>\n",
       "      <td>0.823694</td>\n",
       "      <td>0.077140</td>\n",
       "      <td>0.644862</td>\n",
       "    </tr>\n",
       "    <tr>\n",
       "      <th>row 2</th>\n",
       "      <td>0.309258</td>\n",
       "      <td>0.524254</td>\n",
       "      <td>0.958092</td>\n",
       "      <td>0.883201</td>\n",
       "      <td>0.295432</td>\n",
       "      <td>0.512376</td>\n",
       "    </tr>\n",
       "    <tr>\n",
       "      <th>row 3</th>\n",
       "      <td>0.088702</td>\n",
       "      <td>0.641717</td>\n",
       "      <td>0.132421</td>\n",
       "      <td>0.766486</td>\n",
       "      <td>0.076742</td>\n",
       "      <td>0.331044</td>\n",
       "    </tr>\n",
       "    <tr>\n",
       "      <th>row 4</th>\n",
       "      <td>0.679852</td>\n",
       "      <td>0.509213</td>\n",
       "      <td>0.655146</td>\n",
       "      <td>0.602120</td>\n",
       "      <td>0.719055</td>\n",
       "      <td>0.415219</td>\n",
       "    </tr>\n",
       "    <tr>\n",
       "      <th>row 5</th>\n",
       "      <td>0.396542</td>\n",
       "      <td>0.825139</td>\n",
       "      <td>0.712552</td>\n",
       "      <td>0.097937</td>\n",
       "      <td>0.842154</td>\n",
       "      <td>0.440821</td>\n",
       "    </tr>\n",
       "    <tr>\n",
       "      <th>row 6</th>\n",
       "      <td>0.373989</td>\n",
       "      <td>0.913676</td>\n",
       "      <td>0.547778</td>\n",
       "      <td>0.251937</td>\n",
       "      <td>0.027474</td>\n",
       "      <td>0.206257</td>\n",
       "    </tr>\n",
       "  </tbody>\n",
       "</table>\n",
       "</div>"
      ],
      "text/plain": [
       "       column 1  column 2  column 3  column 4  column 5  column 6\n",
       "row 1  0.559242  0.745284  0.828346  0.823694  0.077140  0.644862\n",
       "row 2  0.309258  0.524254  0.958092  0.883201  0.295432  0.512376\n",
       "row 3  0.088702  0.641717  0.132421  0.766486  0.076742  0.331044\n",
       "row 4  0.679852  0.509213  0.655146  0.602120  0.719055  0.415219\n",
       "row 5  0.396542  0.825139  0.712552  0.097937  0.842154  0.440821\n",
       "row 6  0.373989  0.913676  0.547778  0.251937  0.027474  0.206257"
      ]
     },
     "execution_count": 10,
     "metadata": {},
     "output_type": "execute_result"
    }
   ],
   "source": [
    "rind = []\n",
    "cind =[]\n",
    "for i in range (1,7):\n",
    "    rind.append('row ' + str(i))\n",
    "    cind.append('column ' + str(i))\n",
    "\n",
    "np.random.seed(25) # seed setting due to pseudo random nature\n",
    "DF_obj = DataFrame(np.random.rand(36).reshape(6,6),\n",
    "                   index = rind, columns = cind)\n",
    "\n",
    "DF_obj"
   ]
  },
  {
   "cell_type": "markdown",
   "id": "7ed46cbb",
   "metadata": {},
   "source": [
    "## Locating Data"
   ]
  },
  {
   "cell_type": "code",
   "execution_count": 19,
   "id": "44c0981f",
   "metadata": {},
   "outputs": [
    {
     "data": {
      "text/html": [
       "<div>\n",
       "<style scoped>\n",
       "    .dataframe tbody tr th:only-of-type {\n",
       "        vertical-align: middle;\n",
       "    }\n",
       "\n",
       "    .dataframe tbody tr th {\n",
       "        vertical-align: top;\n",
       "    }\n",
       "\n",
       "    .dataframe thead th {\n",
       "        text-align: right;\n",
       "    }\n",
       "</style>\n",
       "<table border=\"1\" class=\"dataframe\">\n",
       "  <thead>\n",
       "    <tr style=\"text-align: right;\">\n",
       "      <th></th>\n",
       "      <th>column 5</th>\n",
       "      <th>column 2</th>\n",
       "    </tr>\n",
       "  </thead>\n",
       "  <tbody>\n",
       "    <tr>\n",
       "      <th>row 2</th>\n",
       "      <td>0.295432</td>\n",
       "      <td>0.524254</td>\n",
       "    </tr>\n",
       "    <tr>\n",
       "      <th>row 5</th>\n",
       "      <td>0.842154</td>\n",
       "      <td>0.825139</td>\n",
       "    </tr>\n",
       "  </tbody>\n",
       "</table>\n",
       "</div>"
      ],
      "text/plain": [
       "       column 5  column 2\n",
       "row 2  0.295432  0.524254\n",
       "row 5  0.842154  0.825139"
      ]
     },
     "execution_count": 19,
     "metadata": {},
     "output_type": "execute_result"
    }
   ],
   "source": [
    "DF_obj.loc[['row 2', 'row 5'], ['column 5', 'column 2']]"
   ]
  },
  {
   "cell_type": "code",
   "execution_count": 20,
   "id": "cef90e68",
   "metadata": {},
   "outputs": [
    {
     "data": {
      "text/plain": [
       "row 2    1\n",
       "row 3    2\n",
       "row 4    3\n",
       "row 5    4\n",
       "row 6    5\n",
       "dtype: int32"
      ]
     },
     "execution_count": 20,
     "metadata": {},
     "output_type": "execute_result"
    }
   ],
   "source": [
    "series_obj['row 2' : 'row 6']"
   ]
  },
  {
   "cell_type": "markdown",
   "id": "d04eb342",
   "metadata": {},
   "source": [
    "## Comparing with Scaler"
   ]
  },
  {
   "cell_type": "code",
   "execution_count": 21,
   "id": "de7bc599",
   "metadata": {},
   "outputs": [
    {
     "data": {
      "text/html": [
       "<div>\n",
       "<style scoped>\n",
       "    .dataframe tbody tr th:only-of-type {\n",
       "        vertical-align: middle;\n",
       "    }\n",
       "\n",
       "    .dataframe tbody tr th {\n",
       "        vertical-align: top;\n",
       "    }\n",
       "\n",
       "    .dataframe thead th {\n",
       "        text-align: right;\n",
       "    }\n",
       "</style>\n",
       "<table border=\"1\" class=\"dataframe\">\n",
       "  <thead>\n",
       "    <tr style=\"text-align: right;\">\n",
       "      <th></th>\n",
       "      <th>column 1</th>\n",
       "      <th>column 2</th>\n",
       "      <th>column 3</th>\n",
       "      <th>column 4</th>\n",
       "      <th>column 5</th>\n",
       "      <th>column 6</th>\n",
       "    </tr>\n",
       "  </thead>\n",
       "  <tbody>\n",
       "    <tr>\n",
       "      <th>row 1</th>\n",
       "      <td>False</td>\n",
       "      <td>False</td>\n",
       "      <td>False</td>\n",
       "      <td>False</td>\n",
       "      <td>True</td>\n",
       "      <td>False</td>\n",
       "    </tr>\n",
       "    <tr>\n",
       "      <th>row 2</th>\n",
       "      <td>False</td>\n",
       "      <td>False</td>\n",
       "      <td>False</td>\n",
       "      <td>False</td>\n",
       "      <td>False</td>\n",
       "      <td>False</td>\n",
       "    </tr>\n",
       "    <tr>\n",
       "      <th>row 3</th>\n",
       "      <td>True</td>\n",
       "      <td>False</td>\n",
       "      <td>True</td>\n",
       "      <td>False</td>\n",
       "      <td>True</td>\n",
       "      <td>False</td>\n",
       "    </tr>\n",
       "    <tr>\n",
       "      <th>row 4</th>\n",
       "      <td>False</td>\n",
       "      <td>False</td>\n",
       "      <td>False</td>\n",
       "      <td>False</td>\n",
       "      <td>False</td>\n",
       "      <td>False</td>\n",
       "    </tr>\n",
       "    <tr>\n",
       "      <th>row 5</th>\n",
       "      <td>False</td>\n",
       "      <td>False</td>\n",
       "      <td>False</td>\n",
       "      <td>True</td>\n",
       "      <td>False</td>\n",
       "      <td>False</td>\n",
       "    </tr>\n",
       "    <tr>\n",
       "      <th>row 6</th>\n",
       "      <td>False</td>\n",
       "      <td>False</td>\n",
       "      <td>False</td>\n",
       "      <td>False</td>\n",
       "      <td>True</td>\n",
       "      <td>False</td>\n",
       "    </tr>\n",
       "  </tbody>\n",
       "</table>\n",
       "</div>"
      ],
      "text/plain": [
       "       column 1  column 2  column 3  column 4  column 5  column 6\n",
       "row 1     False     False     False     False      True     False\n",
       "row 2     False     False     False     False     False     False\n",
       "row 3      True     False      True     False      True     False\n",
       "row 4     False     False     False     False     False     False\n",
       "row 5     False     False     False      True     False     False\n",
       "row 6     False     False     False     False      True     False"
      ]
     },
     "execution_count": 21,
     "metadata": {},
     "output_type": "execute_result"
    }
   ],
   "source": [
    "DF_obj < .2\n",
    "# this creates the mask for filtering < .2"
   ]
  },
  {
   "cell_type": "markdown",
   "id": "af1328df",
   "metadata": {},
   "source": [
    "## Filtering with Scalers"
   ]
  },
  {
   "cell_type": "code",
   "execution_count": 26,
   "id": "dafe0383",
   "metadata": {},
   "outputs": [
    {
     "data": {
      "text/plain": [
       "row 1    8\n",
       "row 5    8\n",
       "row 8    8\n",
       "dtype: int32"
      ]
     },
     "execution_count": 26,
     "metadata": {},
     "output_type": "execute_result"
    }
   ],
   "source": [
    "series_obj[series_obj > 6]"
   ]
  },
  {
   "cell_type": "markdown",
   "id": "9bbad39d",
   "metadata": {},
   "source": [
    "## Setting Values"
   ]
  },
  {
   "cell_type": "code",
   "execution_count": null,
   "id": "f1969204",
   "metadata": {},
   "outputs": [],
   "source": [
    "series_obj['row 1', 'row 5', 'row 8'] = 8\n",
    "series_obj"
   ]
  }
 ],
 "metadata": {
  "kernelspec": {
   "display_name": "Python 3 (ipykernel)",
   "language": "python",
   "name": "python3"
  },
  "language_info": {
   "codemirror_mode": {
    "name": "ipython",
    "version": 3
   },
   "file_extension": ".py",
   "mimetype": "text/x-python",
   "name": "python",
   "nbconvert_exporter": "python",
   "pygments_lexer": "ipython3",
   "version": "3.9.12"
  }
 },
 "nbformat": 4,
 "nbformat_minor": 5
}
