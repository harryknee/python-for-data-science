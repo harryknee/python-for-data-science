{
 "cells": [
  {
   "cell_type": "code",
   "execution_count": 11,
   "id": "75e7647f",
   "metadata": {},
   "outputs": [],
   "source": [
    "import numpy as np\n",
    "import pandas as pd\n",
    "\n",
    "import cufflinks as cf\n",
    "\n",
    "import chart_studio\n",
    "from chart_studio import plotly as py\n",
    "import chart_studio.tools as tls\n",
    "import plotly.graph_objs as go\n",
    "\n",
    "import sklearn\n",
    "from sklearn.preprocessing import StandardScaler"
   ]
  },
  {
   "cell_type": "code",
   "execution_count": 2,
   "id": "ce3b1e1f",
   "metadata": {},
   "outputs": [],
   "source": [
    "tls.set_credentials_file(username = 'harryni', api_key = 'K02Wejudt9gyp1S2z8ab')"
   ]
  },
  {
   "cell_type": "markdown",
   "id": "712e57de",
   "metadata": {},
   "source": [
    "## Creating histograms"
   ]
  },
  {
   "cell_type": "markdown",
   "id": "8f6ec307",
   "metadata": {},
   "source": [
    "### from pandas Series object"
   ]
  },
  {
   "cell_type": "code",
   "execution_count": 3,
   "id": "97112847",
   "metadata": {
    "scrolled": true
   },
   "outputs": [
    {
     "data": {
      "text/html": [
       "\n",
       "        <iframe\n",
       "            width=\"100%\"\n",
       "            height=\"525px\"\n",
       "            src=\"https://plotly.com/~harryni/9.embed\"\n",
       "            frameborder=\"0\"\n",
       "            allowfullscreen\n",
       "            \n",
       "        ></iframe>\n",
       "        "
      ],
      "text/plain": [
       "<IPython.lib.display.IFrame at 0x214a8b64f70>"
      ]
     },
     "execution_count": 3,
     "metadata": {},
     "output_type": "execute_result"
    }
   ],
   "source": [
    "address = 'C:/Users/zxgsh/Desktop/DS/mtcars.csv'\n",
    "\n",
    "cars = pd.read_csv(address)\n",
    "\n",
    "mpg = cars['mpg']\n",
    "\n",
    "mpg.iplot(kind = 'histogram', filename = 'simple-histogram-chart')"
   ]
  },
  {
   "cell_type": "code",
   "execution_count": 18,
   "id": "229a2c92",
   "metadata": {},
   "outputs": [
    {
     "data": {
      "text/html": [
       "\n",
       "        <iframe\n",
       "            width=\"100%\"\n",
       "            height=\"525px\"\n",
       "            src=\"https://plotly.com/~harryni/11.embed\"\n",
       "            frameborder=\"0\"\n",
       "            allowfullscreen\n",
       "            \n",
       "        ></iframe>\n",
       "        "
      ],
      "text/plain": [
       "<IPython.lib.display.IFrame at 0x214ac696460>"
      ]
     },
     "execution_count": 18,
     "metadata": {},
     "output_type": "execute_result"
    }
   ],
   "source": [
    "cars_subset = cars[ ['mpg','disp','hp'] ]\n",
    "\n",
    "cars_data_std = StandardScaler().fit_transform(cars_subset) # standardise data (rescaling the attributes so that they have mean as 0 and variance as 1)\n",
    "\n",
    "cars_select = pd.DataFrame(cars_data_std)\n",
    "cars_select.columns = ['mpg','disp','hp'] \n",
    "\n",
    "cars_select.iplot(kind = 'histogram', filename = 'multiple-histogram-chart')"
   ]
  },
  {
   "cell_type": "code",
   "execution_count": 7,
   "id": "dd1e496b",
   "metadata": {},
   "outputs": [
    {
     "data": {
      "text/html": [
       "\n",
       "        <iframe\n",
       "            width=\"100%\"\n",
       "            height=\"525px\"\n",
       "            src=\"https://plotly.com/~harryni/14.embed\"\n",
       "            frameborder=\"0\"\n",
       "            allowfullscreen\n",
       "            \n",
       "        ></iframe>\n",
       "        "
      ],
      "text/plain": [
       "<IPython.lib.display.IFrame at 0x214a9663fd0>"
      ]
     },
     "execution_count": 7,
     "metadata": {},
     "output_type": "execute_result"
    }
   ],
   "source": [
    "cars_select.iplot(kind = 'histogram', subplots = True, shape = (3,1), filename = 'subplot-histogram')"
   ]
  },
  {
   "cell_type": "markdown",
   "id": "370fa843",
   "metadata": {},
   "source": [
    "## Creating box plots"
   ]
  },
  {
   "cell_type": "code",
   "execution_count": 8,
   "id": "69573aa0",
   "metadata": {},
   "outputs": [
    {
     "data": {
      "text/html": [
       "\n",
       "        <iframe\n",
       "            width=\"100%\"\n",
       "            height=\"525px\"\n",
       "            src=\"https://plotly.com/~harryni/16.embed\"\n",
       "            frameborder=\"0\"\n",
       "            allowfullscreen\n",
       "            \n",
       "        ></iframe>\n",
       "        "
      ],
      "text/plain": [
       "<IPython.lib.display.IFrame at 0x214a9650730>"
      ]
     },
     "execution_count": 8,
     "metadata": {},
     "output_type": "execute_result"
    }
   ],
   "source": [
    "cars_select.iplot(kind = 'box', filename = 'box-plots')"
   ]
  },
  {
   "cell_type": "markdown",
   "id": "f0012fc0",
   "metadata": {},
   "source": [
    "## Creating scatter plots"
   ]
  },
  {
   "cell_type": "code",
   "execution_count": 19,
   "id": "d0b82fd3",
   "metadata": {},
   "outputs": [
    {
     "data": {
      "text/html": [
       "\n",
       "        <iframe\n",
       "            width=\"100%\"\n",
       "            height=\"525px\"\n",
       "            src=\"https://plotly.com/~harryni/19.embed\"\n",
       "            frameborder=\"0\"\n",
       "            allowfullscreen\n",
       "            \n",
       "        ></iframe>\n",
       "        "
      ],
      "text/plain": [
       "<IPython.lib.display.IFrame at 0x214ae102550>"
      ]
     },
     "execution_count": 19,
     "metadata": {},
     "output_type": "execute_result"
    }
   ],
   "source": [
    "fig = {'data' : [{'x' : cars_select.mpg, 'y' : cars_select.disp, 'mode' : 'markers', 'name' : 'mpg'}, \n",
    "                        {'x' : cars_select.hp, 'y' : cars_select.disp, 'mode' : 'markers', 'name' : 'hp'}],\n",
    "            'layout' : {'xaxis' : {'title' : ''}, 'yaxis' : {'title' : 'Standardised Displacement'}} }\n",
    "\n",
    "py.iplot(fig, filename = 'grouped-scatter-plot')"
   ]
  },
  {
   "cell_type": "code",
   "execution_count": null,
   "id": "015e5f6d",
   "metadata": {},
   "outputs": [],
   "source": []
  }
 ],
 "metadata": {
  "kernelspec": {
   "display_name": "Python 3 (ipykernel)",
   "language": "python",
   "name": "python3"
  },
  "language_info": {
   "codemirror_mode": {
    "name": "ipython",
    "version": 3
   },
   "file_extension": ".py",
   "mimetype": "text/x-python",
   "name": "python",
   "nbconvert_exporter": "python",
   "pygments_lexer": "ipython3",
   "version": "3.9.12"
  }
 },
 "nbformat": 4,
 "nbformat_minor": 5
}
